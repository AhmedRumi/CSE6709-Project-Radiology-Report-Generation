{
  "nbformat": 4,
  "nbformat_minor": 0,
  "metadata": {
    "colab": {
      "provenance": []
    },
    "kernelspec": {
      "name": "python3",
      "display_name": "Python 3"
    },
    "language_info": {
      "name": "python"
    }
  },
  "cells": [
    {
      "cell_type": "code",
      "execution_count": null,
      "metadata": {
        "colab": {
          "base_uri": "https://localhost:8080/"
        },
        "id": "mf7OlRt7xP0t",
        "outputId": "6a01fdd7-3d9a-492d-f9b1-2c367cd97467"
      },
      "outputs": [
        {
          "output_type": "stream",
          "name": "stdout",
          "text": [
            "Collecting torchxrayvision\n",
            "  Downloading torchxrayvision-1.3.2-py3-none-any.whl.metadata (18 kB)\n",
            "Requirement already satisfied: torch>=1 in /usr/local/lib/python3.10/dist-packages (from torchxrayvision) (2.5.1+cu121)\n",
            "Requirement already satisfied: torchvision>=0.5 in /usr/local/lib/python3.10/dist-packages (from torchxrayvision) (0.20.1+cu121)\n",
            "Requirement already satisfied: scikit-image>=0.16 in /usr/local/lib/python3.10/dist-packages (from torchxrayvision) (0.25.0)\n",
            "Requirement already satisfied: tqdm>=4 in /usr/local/lib/python3.10/dist-packages (from torchxrayvision) (4.67.1)\n",
            "Requirement already satisfied: numpy>=1 in /usr/local/lib/python3.10/dist-packages (from torchxrayvision) (1.26.4)\n",
            "Requirement already satisfied: pandas>=1 in /usr/local/lib/python3.10/dist-packages (from torchxrayvision) (2.2.2)\n",
            "Requirement already satisfied: requests>=1 in /usr/local/lib/python3.10/dist-packages (from torchxrayvision) (2.32.3)\n",
            "Requirement already satisfied: pillow>=5.3.0 in /usr/local/lib/python3.10/dist-packages (from torchxrayvision) (11.0.0)\n",
            "Requirement already satisfied: imageio in /usr/local/lib/python3.10/dist-packages (from torchxrayvision) (2.36.1)\n",
            "Requirement already satisfied: python-dateutil>=2.8.2 in /usr/local/lib/python3.10/dist-packages (from pandas>=1->torchxrayvision) (2.8.2)\n",
            "Requirement already satisfied: pytz>=2020.1 in /usr/local/lib/python3.10/dist-packages (from pandas>=1->torchxrayvision) (2024.2)\n",
            "Requirement already satisfied: tzdata>=2022.7 in /usr/local/lib/python3.10/dist-packages (from pandas>=1->torchxrayvision) (2024.2)\n",
            "Requirement already satisfied: charset-normalizer<4,>=2 in /usr/local/lib/python3.10/dist-packages (from requests>=1->torchxrayvision) (3.4.0)\n",
            "Requirement already satisfied: idna<4,>=2.5 in /usr/local/lib/python3.10/dist-packages (from requests>=1->torchxrayvision) (3.10)\n",
            "Requirement already satisfied: urllib3<3,>=1.21.1 in /usr/local/lib/python3.10/dist-packages (from requests>=1->torchxrayvision) (2.2.3)\n",
            "Requirement already satisfied: certifi>=2017.4.17 in /usr/local/lib/python3.10/dist-packages (from requests>=1->torchxrayvision) (2024.12.14)\n",
            "Requirement already satisfied: scipy>=1.11.2 in /usr/local/lib/python3.10/dist-packages (from scikit-image>=0.16->torchxrayvision) (1.13.1)\n",
            "Requirement already satisfied: networkx>=3.0 in /usr/local/lib/python3.10/dist-packages (from scikit-image>=0.16->torchxrayvision) (3.4.2)\n",
            "Requirement already satisfied: tifffile>=2022.8.12 in /usr/local/lib/python3.10/dist-packages (from scikit-image>=0.16->torchxrayvision) (2024.12.12)\n",
            "Requirement already satisfied: packaging>=21 in /usr/local/lib/python3.10/dist-packages (from scikit-image>=0.16->torchxrayvision) (24.2)\n",
            "Requirement already satisfied: lazy-loader>=0.4 in /usr/local/lib/python3.10/dist-packages (from scikit-image>=0.16->torchxrayvision) (0.4)\n",
            "Requirement already satisfied: filelock in /usr/local/lib/python3.10/dist-packages (from torch>=1->torchxrayvision) (3.16.1)\n",
            "Requirement already satisfied: typing-extensions>=4.8.0 in /usr/local/lib/python3.10/dist-packages (from torch>=1->torchxrayvision) (4.12.2)\n",
            "Requirement already satisfied: jinja2 in /usr/local/lib/python3.10/dist-packages (from torch>=1->torchxrayvision) (3.1.4)\n",
            "Requirement already satisfied: fsspec in /usr/local/lib/python3.10/dist-packages (from torch>=1->torchxrayvision) (2024.10.0)\n",
            "Requirement already satisfied: sympy==1.13.1 in /usr/local/lib/python3.10/dist-packages (from torch>=1->torchxrayvision) (1.13.1)\n",
            "Requirement already satisfied: mpmath<1.4,>=1.1.0 in /usr/local/lib/python3.10/dist-packages (from sympy==1.13.1->torch>=1->torchxrayvision) (1.3.0)\n",
            "Requirement already satisfied: six>=1.5 in /usr/local/lib/python3.10/dist-packages (from python-dateutil>=2.8.2->pandas>=1->torchxrayvision) (1.17.0)\n",
            "Requirement already satisfied: MarkupSafe>=2.0 in /usr/local/lib/python3.10/dist-packages (from jinja2->torch>=1->torchxrayvision) (3.0.2)\n",
            "Downloading torchxrayvision-1.3.2-py3-none-any.whl (29.0 MB)\n",
            "\u001b[2K   \u001b[90m━━━━━━━━━━━━━━━━━━━━━━━━━━━━━━━━━━━━━━━━\u001b[0m \u001b[32m29.0/29.0 MB\u001b[0m \u001b[31m52.5 MB/s\u001b[0m eta \u001b[36m0:00:00\u001b[0m\n",
            "\u001b[?25hInstalling collected packages: torchxrayvision\n",
            "Successfully installed torchxrayvision-1.3.2\n"
          ]
        }
      ],
      "source": [
        "!pip install torchxrayvision"
      ]
    },
    {
      "cell_type": "code",
      "source": [
        "from google.colab import drive\n",
        "drive.mount('/content/drive')"
      ],
      "metadata": {
        "id": "GOr0oUuUxefv",
        "colab": {
          "base_uri": "https://localhost:8080/"
        },
        "outputId": "aafb626a-e631-4e6d-e86a-37efd88c2a95"
      },
      "execution_count": null,
      "outputs": [
        {
          "output_type": "stream",
          "name": "stdout",
          "text": [
            "Mounted at /content/drive\n"
          ]
        }
      ]
    },
    {
      "cell_type": "code",
      "source": [
        "import torchxrayvision as xrv\n",
        "import skimage, torch, torchvision\n",
        "\n",
        "\n",
        "# Prepare the image:\n",
        "def create_findings(image_path):\n",
        "  img = skimage.io.imread(image_path)\n",
        "  # img = skimage.io.imread(\"image.png\")\n",
        "  # img = skimage.io.imread(\"CXR1_1_IM-0001-3001.png\")\n",
        "  img = xrv.datasets.normalize(img, 255) # convert 8-bit image to [-1024, 1024] range\n",
        "  img = img.mean(2)[None, ...] # Make single color channel\n",
        "\n",
        "  transform = torchvision.transforms.Compose([xrv.datasets.XRayCenterCrop(),xrv.datasets.XRayResizer(224)])\n",
        "\n",
        "  img = transform(img)\n",
        "  img = torch.from_numpy(img)\n",
        "\n",
        "  # Load model and process image\n",
        "  model = xrv.models.DenseNet(weights=\"densenet121-res224-all\")\n",
        "  outputs = model(img[None,...]) # or model.features(img[None,...])\n",
        "\n",
        "  # Print results\n",
        "  print(dict(zip(model.pathologies,outputs[0].detach().numpy())))\n",
        "  data = dict(zip(model.pathologies,outputs[0].detach().numpy()))\n",
        "\n",
        "  high_chance_conditions = [condition for condition, probability in data.items() if probability >= 0.75]\n",
        "  moderate_chance_conditions = [condition for condition, probability in data.items() if 0.6 <= probability < 0.75]\n",
        "\n",
        "\n",
        "  # Generate the summary\n",
        "  summary_text = \"The imaging analysis reveals \"\n",
        "  if high_chance_conditions or moderate_chance_conditions:\n",
        "      if high_chance_conditions:\n",
        "          summary_text += f\"a high likelihood for the following conditions: {', '.join(high_chance_conditions)},\\n\"\n",
        "      if moderate_chance_conditions:\n",
        "          summary_text += f\"and a moderate likelihood for the following conditions: {', '.join(moderate_chance_conditions)}.\\n\"\n",
        "  else:\n",
        "      summary_text = \"No significant abnormalities detected from the imaging analysis. Findings appear within normal limits.\"\n",
        "\n",
        "  # Output the summary\n",
        "  # print(\"Generated Summary:\")\n",
        "  # print(summary_text)\n",
        "  return summary_text\n",
        "\n",
        "# {'Atelectasis': 0.32797316,\n",
        "#  'Consolidation': 0.42933336,\n",
        "#  'Infiltration': 0.5316924,\n",
        "#  'Pneumothorax': 0.28849724,\n",
        "#  'Edema': 0.024142697,\n",
        "#  'Emphysema': 0.5011832,\n",
        "#  'Fibrosis': 0.51887786,\n",
        "#  'Effusion': 0.27805611,\n",
        "#  'Pneumonia': 0.18569896,\n",
        "#  'Pleural_Thickening': 0.24489835,\n",
        "#  'Cardiomegaly': 0.3645515,\n",
        "#  'Nodule': 0.68982,\n",
        "#  'Mass': 0.6392845,\n",
        "#  'Hernia': 0.00993878,\n",
        "#  'Lung Lesion': 0.011150705,\n",
        "#  'Fracture': 0.51916164,\n",
        "#  'Lung Opacity': 0.59073937,\n",
        "#  'Enlarged Cardiomediastinum': 0.27218717}\n"
      ],
      "metadata": {
        "colab": {
          "base_uri": "https://localhost:8080/"
        },
        "id": "OZehryKBydeg",
        "outputId": "cbb456ea-48f8-4a05-d6f3-071fc3549d1b"
      },
      "execution_count": null,
      "outputs": [
        {
          "output_type": "stream",
          "name": "stderr",
          "text": [
            "/usr/local/lib/python3.10/dist-packages/torchxrayvision/utils.py:11: TqdmExperimentalWarning: Using `tqdm.autonotebook.tqdm` in notebook mode. Use `tqdm.tqdm` instead to force console mode (e.g. in jupyter console)\n",
            "  from tqdm.autonotebook import tqdm\n"
          ]
        }
      ]
    },
    {
      "cell_type": "code",
      "source": [
        "!pip install transformers"
      ],
      "metadata": {
        "colab": {
          "base_uri": "https://localhost:8080/"
        },
        "id": "hz-l_-zD2MG2",
        "outputId": "c73335f1-7053-404f-81dd-065d78d8e4ac",
        "collapsed": true
      },
      "execution_count": null,
      "outputs": [
        {
          "output_type": "stream",
          "name": "stdout",
          "text": [
            "Requirement already satisfied: transformers in /usr/local/lib/python3.10/dist-packages (4.47.1)\n",
            "Requirement already satisfied: filelock in /usr/local/lib/python3.10/dist-packages (from transformers) (3.16.1)\n",
            "Requirement already satisfied: huggingface-hub<1.0,>=0.24.0 in /usr/local/lib/python3.10/dist-packages (from transformers) (0.27.0)\n",
            "Requirement already satisfied: numpy>=1.17 in /usr/local/lib/python3.10/dist-packages (from transformers) (1.26.4)\n",
            "Requirement already satisfied: packaging>=20.0 in /usr/local/lib/python3.10/dist-packages (from transformers) (24.2)\n",
            "Requirement already satisfied: pyyaml>=5.1 in /usr/local/lib/python3.10/dist-packages (from transformers) (6.0.2)\n",
            "Requirement already satisfied: regex!=2019.12.17 in /usr/local/lib/python3.10/dist-packages (from transformers) (2024.11.6)\n",
            "Requirement already satisfied: requests in /usr/local/lib/python3.10/dist-packages (from transformers) (2.32.3)\n",
            "Requirement already satisfied: tokenizers<0.22,>=0.21 in /usr/local/lib/python3.10/dist-packages (from transformers) (0.21.0)\n",
            "Requirement already satisfied: safetensors>=0.4.1 in /usr/local/lib/python3.10/dist-packages (from transformers) (0.4.5)\n",
            "Requirement already satisfied: tqdm>=4.27 in /usr/local/lib/python3.10/dist-packages (from transformers) (4.67.1)\n",
            "Requirement already satisfied: fsspec>=2023.5.0 in /usr/local/lib/python3.10/dist-packages (from huggingface-hub<1.0,>=0.24.0->transformers) (2024.10.0)\n",
            "Requirement already satisfied: typing-extensions>=3.7.4.3 in /usr/local/lib/python3.10/dist-packages (from huggingface-hub<1.0,>=0.24.0->transformers) (4.12.2)\n",
            "Requirement already satisfied: charset-normalizer<4,>=2 in /usr/local/lib/python3.10/dist-packages (from requests->transformers) (3.4.0)\n",
            "Requirement already satisfied: idna<4,>=2.5 in /usr/local/lib/python3.10/dist-packages (from requests->transformers) (3.10)\n",
            "Requirement already satisfied: urllib3<3,>=1.21.1 in /usr/local/lib/python3.10/dist-packages (from requests->transformers) (2.2.3)\n",
            "Requirement already satisfied: certifi>=2017.4.17 in /usr/local/lib/python3.10/dist-packages (from requests->transformers) (2024.12.14)\n"
          ]
        }
      ]
    },
    {
      "cell_type": "code",
      "source": [
        "\n",
        "from transformers import pipeline\n",
        "\n",
        "classifier = pipeline(model=\"lxyuan/vit-xray-pneumonia-classification\")\n",
        "\n",
        "# image taken from https://www.news-medical.net/health/What-is-Viral-Pneumonia.aspx\n",
        "# classifier(\"/content/gen/pneumonia_0.png\")\n"
      ],
      "metadata": {
        "colab": {
          "base_uri": "https://localhost:8080/"
        },
        "id": "HGNOPCHO2H-n",
        "outputId": "9f2e5a74-ad84-404e-f2b1-0944115bebe3"
      },
      "execution_count": null,
      "outputs": [
        {
          "output_type": "stream",
          "name": "stderr",
          "text": [
            "Device set to use cpu\n"
          ]
        },
        {
          "output_type": "stream",
          "name": "stdout",
          "text": [
            "[{'label': 'PNEUMONIA', 'score': 0.9050011038780212}, {'label': 'NORMAL', 'score': 0.10924490541219711}]\n"
          ]
        }
      ]
    },
    {
      "cell_type": "code",
      "source": [
        "\n",
        "count=0\n",
        "true=0\n",
        "folder = \"/content/drive/MyDrive/NLMCXR/DCGAN_images/DCGAN/\"\n",
        "\n",
        "# img_path=\"/content/drive/MyDrive/NLMCXR/ACGAN/pneumonia_0.png\"\n",
        "# output=classifier(img_path)\n",
        "# print(output[0]['score'])\n",
        "\n",
        "#for all files in the folder\n",
        "for filename in os.listdir(folder):\n",
        "  if filename.endswith(\".png\"):\n",
        "    count+=1\n",
        "    img_path = os.path.join(folder, filename)\n",
        "    print(count)\n",
        "    output=classifier(img_path)\n",
        "    if output[0]['score']>=0.8:\n",
        "      true+=1\n",
        "\n",
        "print(true/count)\n"
      ],
      "metadata": {
        "colab": {
          "base_uri": "https://localhost:8080/"
        },
        "collapsed": true,
        "id": "YFo9dfGEGGLd",
        "outputId": "ff321fdf-0556-4bd2-b717-ac2f97c99ab3"
      },
      "execution_count": null,
      "outputs": [
        {
          "output_type": "stream",
          "name": "stdout",
          "text": [
            "1\n",
            "2\n",
            "3\n",
            "4\n",
            "5\n",
            "6\n",
            "7\n",
            "8\n",
            "9\n",
            "10\n",
            "11\n",
            "12\n",
            "13\n",
            "14\n",
            "15\n",
            "16\n",
            "17\n",
            "18\n",
            "19\n",
            "20\n",
            "21\n",
            "22\n",
            "23\n",
            "24\n",
            "25\n",
            "26\n",
            "27\n",
            "28\n",
            "29\n",
            "30\n",
            "31\n",
            "32\n",
            "33\n",
            "34\n",
            "35\n",
            "36\n",
            "37\n",
            "38\n",
            "39\n",
            "40\n",
            "41\n",
            "42\n",
            "43\n",
            "44\n",
            "45\n",
            "46\n",
            "47\n",
            "48\n",
            "49\n",
            "50\n",
            "51\n",
            "52\n",
            "53\n",
            "54\n",
            "55\n",
            "56\n",
            "57\n",
            "58\n",
            "59\n",
            "60\n",
            "61\n",
            "62\n",
            "63\n",
            "64\n",
            "65\n",
            "66\n",
            "67\n",
            "68\n",
            "69\n",
            "70\n",
            "71\n",
            "72\n",
            "73\n",
            "74\n",
            "75\n",
            "76\n",
            "77\n",
            "78\n",
            "79\n",
            "80\n",
            "81\n",
            "82\n",
            "83\n",
            "84\n",
            "85\n",
            "86\n",
            "87\n",
            "88\n",
            "89\n",
            "90\n",
            "91\n",
            "92\n",
            "93\n",
            "94\n",
            "95\n",
            "96\n",
            "97\n",
            "98\n",
            "99\n",
            "100\n",
            "101\n",
            "102\n",
            "103\n",
            "104\n",
            "105\n",
            "106\n",
            "107\n",
            "108\n",
            "109\n",
            "110\n",
            "111\n",
            "112\n",
            "113\n",
            "114\n",
            "115\n",
            "116\n",
            "117\n",
            "118\n",
            "119\n",
            "120\n",
            "121\n",
            "122\n",
            "123\n",
            "124\n",
            "125\n",
            "126\n",
            "127\n",
            "128\n",
            "129\n",
            "130\n",
            "131\n",
            "132\n",
            "133\n",
            "134\n",
            "135\n",
            "136\n",
            "137\n",
            "138\n",
            "139\n",
            "140\n",
            "141\n",
            "142\n",
            "143\n",
            "144\n",
            "145\n",
            "146\n",
            "147\n",
            "148\n",
            "149\n",
            "150\n",
            "151\n",
            "152\n",
            "153\n",
            "154\n",
            "155\n",
            "156\n",
            "157\n",
            "158\n",
            "159\n",
            "160\n",
            "161\n",
            "162\n",
            "163\n",
            "164\n",
            "165\n",
            "166\n",
            "167\n",
            "168\n",
            "169\n",
            "170\n",
            "171\n",
            "172\n",
            "173\n",
            "174\n",
            "175\n",
            "176\n",
            "177\n",
            "178\n",
            "179\n",
            "180\n",
            "181\n",
            "182\n",
            "183\n",
            "184\n",
            "185\n",
            "186\n",
            "187\n",
            "188\n",
            "189\n",
            "190\n",
            "191\n",
            "192\n",
            "193\n",
            "194\n",
            "195\n",
            "196\n",
            "197\n",
            "198\n",
            "199\n",
            "200\n",
            "201\n",
            "202\n",
            "203\n",
            "204\n",
            "205\n",
            "206\n",
            "207\n",
            "208\n",
            "209\n",
            "210\n",
            "211\n",
            "212\n",
            "213\n",
            "214\n",
            "215\n",
            "216\n",
            "217\n",
            "218\n",
            "219\n",
            "220\n",
            "221\n",
            "222\n",
            "223\n",
            "224\n",
            "225\n",
            "226\n",
            "227\n",
            "228\n",
            "229\n",
            "230\n",
            "231\n",
            "232\n",
            "233\n",
            "234\n",
            "235\n",
            "236\n",
            "237\n",
            "238\n",
            "239\n",
            "240\n",
            "241\n",
            "242\n",
            "243\n",
            "244\n",
            "245\n",
            "246\n",
            "247\n",
            "248\n",
            "249\n",
            "250\n",
            "251\n",
            "252\n",
            "253\n",
            "254\n",
            "255\n",
            "256\n",
            "257\n",
            "258\n",
            "259\n",
            "260\n",
            "261\n",
            "262\n",
            "263\n",
            "264\n",
            "265\n",
            "266\n",
            "267\n",
            "268\n",
            "269\n",
            "270\n",
            "271\n",
            "272\n",
            "273\n",
            "274\n",
            "275\n",
            "276\n",
            "277\n",
            "278\n",
            "279\n",
            "280\n",
            "281\n",
            "282\n",
            "283\n",
            "284\n",
            "285\n",
            "286\n",
            "287\n",
            "288\n",
            "289\n",
            "290\n",
            "291\n",
            "292\n",
            "293\n",
            "294\n",
            "295\n",
            "296\n",
            "297\n",
            "298\n",
            "299\n",
            "300\n",
            "0.8133333333333334\n"
          ]
        }
      ]
    },
    {
      "cell_type": "code",
      "source": [
        "#for each image in gen folder, use classifier\n",
        "folder = \"/content/gen/\"\n",
        "\n",
        "# Loop through all files in the folder\n",
        "for filename in os.listdir(folder):\n",
        "  if filename.endswith(\".png\"):\n",
        "    img_path = os.path.join(folder, filename)\n",
        "    print(img_path)\n",
        "    classifier(img_path)"
      ],
      "metadata": {
        "id": "kEkIhcRQ4WoQ",
        "outputId": "449a4677-0849-4f32-c742-9763fa92d643",
        "colab": {
          "base_uri": "https://localhost:8080/"
        }
      },
      "execution_count": null,
      "outputs": [
        {
          "output_type": "stream",
          "name": "stdout",
          "text": [
            "/content/gen/pneumonia_3.png\n",
            "/content/gen/pneumonia_9.png\n",
            "/content/gen/pneumonia_8.png\n",
            "/content/gen/pneumonia_0.png\n",
            "/content/gen/pneumonia_7.png\n",
            "/content/gen/pneumonia_2.png\n",
            "/content/gen/pneumonia_1.png\n"
          ]
        }
      ]
    },
    {
      "cell_type": "markdown",
      "source": [
        "**FID evaluation**"
      ],
      "metadata": {
        "id": "rhtVrXGquebD"
      }
    },
    {
      "cell_type": "code",
      "source": [
        "from google.colab import drive\n",
        "drive.mount('/content/drive')"
      ],
      "metadata": {
        "colab": {
          "base_uri": "https://localhost:8080/"
        },
        "id": "zVM9kOffuujT",
        "outputId": "d08e043b-9d5f-43f2-cb66-067d02d1b913"
      },
      "execution_count": null,
      "outputs": [
        {
          "output_type": "stream",
          "name": "stdout",
          "text": [
            "Mounted at /content/drive\n"
          ]
        }
      ]
    },
    {
      "cell_type": "code",
      "source": [
        "!pip install pytorch-fid"
      ],
      "metadata": {
        "colab": {
          "base_uri": "https://localhost:8080/"
        },
        "id": "S18cHbU0vt9t",
        "outputId": "65953481-f82c-4045-9e2b-5c1e25e63d07"
      },
      "execution_count": null,
      "outputs": [
        {
          "output_type": "stream",
          "name": "stdout",
          "text": [
            "Requirement already satisfied: pytorch-fid in /usr/local/lib/python3.10/dist-packages (0.3.0)\n",
            "Requirement already satisfied: numpy in /usr/local/lib/python3.10/dist-packages (from pytorch-fid) (1.26.4)\n",
            "Requirement already satisfied: pillow in /usr/local/lib/python3.10/dist-packages (from pytorch-fid) (11.1.0)\n",
            "Requirement already satisfied: scipy in /usr/local/lib/python3.10/dist-packages (from pytorch-fid) (1.13.1)\n",
            "Requirement already satisfied: torch>=1.0.1 in /usr/local/lib/python3.10/dist-packages (from pytorch-fid) (2.5.1+cu121)\n",
            "Requirement already satisfied: torchvision>=0.2.2 in /usr/local/lib/python3.10/dist-packages (from pytorch-fid) (0.20.1+cu121)\n",
            "Requirement already satisfied: filelock in /usr/local/lib/python3.10/dist-packages (from torch>=1.0.1->pytorch-fid) (3.16.1)\n",
            "Requirement already satisfied: typing-extensions>=4.8.0 in /usr/local/lib/python3.10/dist-packages (from torch>=1.0.1->pytorch-fid) (4.12.2)\n",
            "Requirement already satisfied: networkx in /usr/local/lib/python3.10/dist-packages (from torch>=1.0.1->pytorch-fid) (3.4.2)\n",
            "Requirement already satisfied: jinja2 in /usr/local/lib/python3.10/dist-packages (from torch>=1.0.1->pytorch-fid) (3.1.5)\n",
            "Requirement already satisfied: fsspec in /usr/local/lib/python3.10/dist-packages (from torch>=1.0.1->pytorch-fid) (2024.10.0)\n",
            "Requirement already satisfied: sympy==1.13.1 in /usr/local/lib/python3.10/dist-packages (from torch>=1.0.1->pytorch-fid) (1.13.1)\n",
            "Requirement already satisfied: mpmath<1.4,>=1.1.0 in /usr/local/lib/python3.10/dist-packages (from sympy==1.13.1->torch>=1.0.1->pytorch-fid) (1.3.0)\n",
            "Requirement already satisfied: MarkupSafe>=2.0 in /usr/local/lib/python3.10/dist-packages (from jinja2->torch>=1.0.1->pytorch-fid) (3.0.2)\n"
          ]
        }
      ]
    },
    {
      "cell_type": "code",
      "source": [
        "#make images in real folder 112x112\n",
        "from PIL import Image\n",
        "import os\n",
        "\n",
        "# Set the path to your \"real\" folder\n",
        "real_folder = \"/content/real\"\n",
        "\n",
        "# Loop through all files in the folder\n",
        "for filename in os.listdir(real_folder):\n",
        "    if filename.endswith(\".png\") or filename.endswith(\".jpg\"):  # Check if it's an image file\n",
        "        # Open the image using Pillow\n",
        "        img_path = os.path.join(real_folder, filename)\n",
        "        img = Image.open(img_path)\n",
        "\n",
        "        # Resize the image to 112x112\n",
        "        resized_img = img.resize((112, 112))\n",
        "\n",
        "        # Save the resized image back to the \"real\" folder, overwriting the original\n",
        "        resized_img.save(img_path)\n",
        "\n",
        "print(\"Resizing complete.\")\n",
        "\n",
        "\n"
      ],
      "metadata": {
        "colab": {
          "base_uri": "https://localhost:8080/"
        },
        "id": "pFWsiHDsy7z9",
        "outputId": "ee17eae4-a4f3-431f-c496-51b932ff3e59"
      },
      "execution_count": null,
      "outputs": [
        {
          "output_type": "stream",
          "name": "stdout",
          "text": [
            "Resizing complete.\n"
          ]
        }
      ]
    },
    {
      "cell_type": "code",
      "source": [
        "from PIL import Image\n",
        "import os\n",
        "\n",
        "# Define the folder path\n",
        "folder_path = \"/content/real1\"\n",
        "output_size = (64,64)\n",
        "\n",
        "# Iterate through all files in the folder\n",
        "for filename in os.listdir(folder_path):\n",
        "    file_path = os.path.join(folder_path, filename)\n",
        "\n",
        "    # Check if the file is an image\n",
        "    if filename.lower().endswith(('.png', '.jpg', '.jpeg', '.bmp', '.gif', '.tiff')):\n",
        "        try:\n",
        "            # Open the image\n",
        "            with Image.open(file_path) as img:\n",
        "                # Resize the image\n",
        "                img_resized = img.resize(output_size)\n",
        "\n",
        "                # Save the resized image (overwrite the original file)\n",
        "                img_resized.save(file_path)\n",
        "                print(f\"Resized: {filename}\")\n",
        "        except Exception as e:\n",
        "            print(f\"Error resizing {filename}: {e}\")\n"
      ],
      "metadata": {
        "colab": {
          "base_uri": "https://localhost:8080/"
        },
        "id": "hN8nkl_mzr8q",
        "outputId": "898f537b-aa85-4205-9fe3-9d3d076126bf"
      },
      "execution_count": null,
      "outputs": [
        {
          "output_type": "stream",
          "name": "stdout",
          "text": [
            "Resized: person1001_bacteria_2932.jpeg\n",
            "Resized: person1004_bacteria_2935.jpeg\n",
            "Resized: person1003_bacteria_2934.jpeg\n",
            "Resized: person1000_bacteria_2931.jpeg\n",
            "Resized: person1002_bacteria_2933.jpeg\n"
          ]
        }
      ]
    },
    {
      "cell_type": "code",
      "source": [
        "!python -m pytorch_fid \"/content/real1\" \"/content/gen\""
      ],
      "metadata": {
        "colab": {
          "base_uri": "https://localhost:8080/"
        },
        "id": "jXXKaFEryKSE",
        "outputId": "30b62a64-3faa-486d-a290-6e9713342a21",
        "collapsed": true
      },
      "execution_count": null,
      "outputs": [
        {
          "output_type": "stream",
          "name": "stdout",
          "text": [
            "Warning: batch size is bigger than the data size. Setting batch size to data size\n",
            "100% 1/1 [00:02<00:00,  2.53s/it]\n",
            "Warning: batch size is bigger than the data size. Setting batch size to data size\n",
            "100% 1/1 [00:02<00:00,  2.30s/it]\n",
            "FID:  384.87873746828126\n"
          ]
        }
      ]
    }
  ]
}